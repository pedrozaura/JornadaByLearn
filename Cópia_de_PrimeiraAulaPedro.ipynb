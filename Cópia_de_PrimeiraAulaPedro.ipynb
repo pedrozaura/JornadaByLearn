{
  "nbformat": 4,
  "nbformat_minor": 0,
  "metadata": {
    "colab": {
      "name": "Cópia de PrimeiraAulaPedro.ipynb",
      "provenance": [],
      "collapsed_sections": [],
      "authorship_tag": "ABX9TyOYZJ6C8xb0hr9SAEHypG2k",
      "include_colab_link": true
    },
    "kernelspec": {
      "name": "python3",
      "display_name": "Python 3"
    }
  },
  "cells": [
    {
      "cell_type": "markdown",
      "metadata": {
        "id": "view-in-github",
        "colab_type": "text"
      },
      "source": [
        "<a href=\"https://colab.research.google.com/github/pedrozaura/JornadaByLearn/blob/main/C%C3%B3pia_de_PrimeiraAulaPedro.ipynb\" target=\"_parent\"><img src=\"https://colab.research.google.com/assets/colab-badge.svg\" alt=\"Open In Colab\"/></a>"
      ]
    },
    {
      "cell_type": "markdown",
      "metadata": {
        "id": "7JHpxgxh4REB"
      },
      "source": [
        "# Variavel\r\n",
        "\r\n",
        "É um nome que se refere a um valor"
      ]
    },
    {
      "cell_type": "code",
      "metadata": {
        "id": "dBhEN32w4X5x"
      },
      "source": [
        "idade = 31\r\n",
        "NomeCompleto = 'Pedro Avelino Zaura'"
      ],
      "execution_count": null,
      "outputs": []
    },
    {
      "cell_type": "code",
      "metadata": {
        "colab": {
          "base_uri": "https://localhost:8080/"
        },
        "id": "G35gJ4QY4bbZ",
        "outputId": "3f680186-f803-4bc5-8a8f-38f257cb7a4e"
      },
      "source": [
        "idade"
      ],
      "execution_count": null,
      "outputs": [
        {
          "output_type": "execute_result",
          "data": {
            "text/plain": [
              "31"
            ]
          },
          "metadata": {
            "tags": []
          },
          "execution_count": 8
        }
      ]
    },
    {
      "cell_type": "code",
      "metadata": {
        "colab": {
          "base_uri": "https://localhost:8080/",
          "height": 35
        },
        "id": "ah2r150Y5Nyx",
        "outputId": "55dbd61d-6fab-41e0-dba1-d3e37a1b9141"
      },
      "source": [
        "NomeCompleto\r\n"
      ],
      "execution_count": null,
      "outputs": [
        {
          "output_type": "execute_result",
          "data": {
            "application/vnd.google.colaboratory.intrinsic+json": {
              "type": "string"
            },
            "text/plain": [
              "'Pedro Avelino Zaura'"
            ]
          },
          "metadata": {
            "tags": []
          },
          "execution_count": 10
        }
      ]
    },
    {
      "cell_type": "code",
      "metadata": {
        "id": "6EdFd7x65XMD"
      },
      "source": [
        "ano = 2021"
      ],
      "execution_count": null,
      "outputs": []
    },
    {
      "cell_type": "code",
      "metadata": {
        "id": "jeFRR4Ac6tNG"
      },
      "source": [
        "idade = 20\r\n",
        "peso = 82.5\r\n",
        "\r\n",
        "totalizador = idade + peso"
      ],
      "execution_count": null,
      "outputs": []
    },
    {
      "cell_type": "code",
      "metadata": {
        "colab": {
          "base_uri": "https://localhost:8080/"
        },
        "id": "u27Vt3Mn_hhv",
        "outputId": "6d76f1c7-4a9b-4faa-a7f2-f191d9501bdb"
      },
      "source": [
        "totalizador\r\n"
      ],
      "execution_count": null,
      "outputs": [
        {
          "output_type": "execute_result",
          "data": {
            "text/plain": [
              "102.5"
            ]
          },
          "metadata": {
            "tags": []
          },
          "execution_count": 14
        }
      ]
    },
    {
      "cell_type": "code",
      "metadata": {
        "colab": {
          "base_uri": "https://localhost:8080/"
        },
        "id": "4XEUUxCn_kfs",
        "outputId": "d79d0bfe-753d-4b0b-97f6-f54d99dccac2"
      },
      "source": [
        "# Calculadora do Pedro\r\n",
        "\r\n",
        "# Entrada dos numeros.\r\n",
        "\r\n",
        "primeiro_numero = float(input('Digite o primeiro numero: '))\r\n",
        "segundo_numero = float(input('Digite o Segundo numero: '))\r\n",
        "\r\n",
        "# Operações Matematicas:\r\n",
        "\r\n",
        "soma = primeiro_numero + segundo_numero\r\n",
        "subtracao = primeiro_numero - segundo_numero\r\n",
        "multiplicacao = primeiro_numero * segundo_numero\r\n",
        "divisao = primeiro_numero / segundo_numero\r\n",
        "print('')\r\n",
        "print ('O resultado da soma é: ' , soma)\r\n",
        "print ('O resultado subtração é: ' , subtracao)\r\n",
        "print ('O resultado multiplicação é: ' , multiplicacao)\r\n",
        "print ('O resultado divisão é: ' , divisao)\r\n"
      ],
      "execution_count": null,
      "outputs": [
        {
          "output_type": "stream",
          "text": [
            "Digite o primeiro numero: 15\n",
            "Digite o Segundo numero: 2\n",
            "\n",
            "O resultado da soma é:  17.0\n",
            "O resultado subtração é:  13.0\n",
            "O resultado multiplicação é:  30.0\n",
            "O resultado divisão é:  7.5\n"
          ],
          "name": "stdout"
        }
      ]
    },
    {
      "cell_type": "code",
      "metadata": {
        "id": "nuQtEcn-FxyG"
      },
      "source": [
        "# listas\r\n",
        "\r\n",
        "Lista1 = ['Arroz', 'feijao', 'carne', 'mandioca']\r\n",
        "lista2 = ['batatinha', 'cebola', 'alho', 'pipoca']\r\n",
        "\r\n",
        "\r\n"
      ],
      "execution_count": null,
      "outputs": []
    },
    {
      "cell_type": "code",
      "metadata": {
        "id": "6vChV3EKIBY_"
      },
      "source": [
        "nome = input('Insira seu nome: ')\r\n",
        "\r\n",
        "nota1 = float(input('sua primeira nota: '))\r\n",
        "nota2 = float(input('sua segunda nota: '))\r\n",
        "nota3 = float(input('sua terceira nota: '))\r\n",
        "nota4 = float(input('sua quarta nota: '))\r\n",
        "\r\n",
        "print('Olá ', nome, ' suas notas foram: ' )\r\n",
        "print(nota1, ',', nota2, ',', nota3, ',', nota4)\r\n",
        "\r\n",
        "soma = nota1 + nota2 + nota3 + nota4\r\n",
        "media = soma / 4\r\n",
        "\r\n",
        "print ('Sua media é: ', media)"
      ],
      "execution_count": null,
      "outputs": []
    }
  ]
}